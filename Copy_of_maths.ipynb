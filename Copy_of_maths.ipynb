{
  "nbformat": 4,
  "nbformat_minor": 0,
  "metadata": {
    "colab": {
      "provenance": []
    },
    "kernelspec": {
      "name": "python3",
      "display_name": "Python 3"
    },
    "language_info": {
      "name": "python"
    }
  },
  "cells": [
    {
      "cell_type": "code",
      "execution_count": null,
      "metadata": {
        "colab": {
          "base_uri": "https://localhost:8080/"
        },
        "id": "GjB8iOdfR6TK",
        "outputId": "25b6525d-cc99-4f80-971e-f5eb24537773"
      },
      "outputs": [
        {
          "output_type": "stream",
          "name": "stdout",
          "text": [
            "Final temperature after 60 seconds: 25.185906413249977 degrees Celsius\n"
          ]
        }
      ],
      "source": [
        "import math\n",
        "\n",
        "def newtons_law_of_cooling(T_initial, T_surrounding, cooling_constant, time):\n",
        "    \"\"\"\n",
        "    Calculate temperature using Newton's law of cooling.\n",
        "\n",
        "    Arguments:\n",
        "    T_initial -- Initial temperature of the object (in degrees Celsius)\n",
        "    T_surrounding -- Temperature of the surroundings (in degrees Celsius)\n",
        "    cooling_constant -- Cooling constant specific to the object-environment pair\n",
        "    time -- Time passed (in seconds)\n",
        "\n",
        "    Returns:\n",
        "    The temperature of the object after the specified time (in degrees Celsius)\n",
        "    \"\"\"\n",
        "    return T_surrounding + (T_initial - T_surrounding) * math.exp(-cooling_constant * time)\n",
        "\n",
        "# Example usage:\n",
        "initial_temperature = 100  # Initial temperature of the object in degrees Celsius\n",
        "surrounding_temperature = 25  # Temperature of the surroundings in degrees Celsius\n",
        "cooling_constant = 0.1  # Cooling constant specific to the object-environment pair\n",
        "time_elapsed = 60  # Time elapsed in seconds\n",
        "\n",
        "final_temperature = newtons_law_of_cooling(initial_temperature, surrounding_temperature, cooling_constant, time_elapsed)\n",
        "print(\"Final temperature after\", time_elapsed, \"seconds:\", final_temperature, \"degrees Celsius\")"
      ]
    }
  ]
}